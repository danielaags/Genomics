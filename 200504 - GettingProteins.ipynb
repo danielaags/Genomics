{
 "cells": [
  {
   "cell_type": "code",
   "execution_count": 30,
   "metadata": {},
   "outputs": [],
   "source": [
    "import matplotlib.pyplot as plt\n",
    "import numpy as np\n",
    "\n",
    "#Pandas for data manipulation\n",
    "import pandas as pd\n",
    "\n",
    "from Bio import Entrez\n",
    "from Bio import SeqIO\n",
    "\n",
    "import sys"
   ]
  },
  {
   "cell_type": "markdown",
   "metadata": {},
   "source": [
    "### Test"
   ]
  },
  {
   "cell_type": "code",
   "execution_count": 23,
   "metadata": {},
   "outputs": [
    {
     "name": "stdout",
     "output_type": "stream",
     "text": [
      "LOCUS       WP_030498974            1123 aa            linear   BCT 01-JUN-2016\n"
     ]
    }
   ],
   "source": [
    "#Test with only one\n",
    "Entrez.email = \"dgarcia@eng.au.dk\"\n",
    "handle = Entrez.efetch(db=\"protein\", id='WP_030498974.1', rettype=\"gb\", retmode=\"text\")\n",
    "print(handle.readline().strip())\n",
    "handle.close()"
   ]
  },
  {
   "cell_type": "markdown",
   "metadata": {},
   "source": [
    "### Read data "
   ]
  },
  {
   "cell_type": "code",
   "execution_count": 37,
   "metadata": {},
   "outputs": [
    {
     "data": {
      "text/html": [
       "<div>\n",
       "<style scoped>\n",
       "    .dataframe tbody tr th:only-of-type {\n",
       "        vertical-align: middle;\n",
       "    }\n",
       "\n",
       "    .dataframe tbody tr th {\n",
       "        vertical-align: top;\n",
       "    }\n",
       "\n",
       "    .dataframe thead th {\n",
       "        text-align: right;\n",
       "    }\n",
       "</style>\n",
       "<table border=\"1\" class=\"dataframe\">\n",
       "  <thead>\n",
       "    <tr style=\"text-align: right;\">\n",
       "      <th></th>\n",
       "      <th>organism</th>\n",
       "      <th>proteinID</th>\n",
       "      <th>assembly</th>\n",
       "    </tr>\n",
       "  </thead>\n",
       "  <tbody>\n",
       "    <tr>\n",
       "      <th>0</th>\n",
       "      <td>Micromonospora purpureochromogenes</td>\n",
       "      <td>WP_030498974.1</td>\n",
       "      <td>BGC0001327</td>\n",
       "    </tr>\n",
       "    <tr>\n",
       "      <th>1</th>\n",
       "      <td>Micromonospora sp. M42</td>\n",
       "      <td>EWM63002.1</td>\n",
       "      <td>BGC0001328</td>\n",
       "    </tr>\n",
       "    <tr>\n",
       "      <th>2</th>\n",
       "      <td>Streptomyces sp. MspMP-M5</td>\n",
       "      <td>WP_018540603.1</td>\n",
       "      <td>BGC0001332</td>\n",
       "    </tr>\n",
       "    <tr>\n",
       "      <th>3</th>\n",
       "      <td>Micromonospora sp. RV43</td>\n",
       "      <td>WP_047890614.1</td>\n",
       "      <td>BGC0001330</td>\n",
       "    </tr>\n",
       "    <tr>\n",
       "      <th>4</th>\n",
       "      <td>Salinispora arenicola CNR107</td>\n",
       "      <td>WP_019032755.1</td>\n",
       "      <td>BGC0001331</td>\n",
       "    </tr>\n",
       "  </tbody>\n",
       "</table>\n",
       "</div>"
      ],
      "text/plain": [
       "                             organism       proteinID    assembly\n",
       "0  Micromonospora purpureochromogenes  WP_030498974.1  BGC0001327\n",
       "1              Micromonospora sp. M42      EWM63002.1  BGC0001328\n",
       "2           Streptomyces sp. MspMP-M5  WP_018540603.1  BGC0001332\n",
       "3             Micromonospora sp. RV43  WP_047890614.1  BGC0001330\n",
       "4        Salinispora arenicola CNR107  WP_019032755.1  BGC0001331"
      ]
     },
     "execution_count": 37,
     "metadata": {},
     "output_type": "execute_result"
    }
   ],
   "source": [
    "data = pd.read_csv('APD_listIsland.txt', sep = ',')\n",
    "data.head()"
   ]
  },
  {
   "cell_type": "code",
   "execution_count": 38,
   "metadata": {},
   "outputs": [
    {
     "data": {
      "text/plain": [
       "array(['WP_030498974.1', 'EWM63002.1', 'WP_018540603.1', 'WP_047890614.1',\n",
       "       'WP_019032755.1', 'TMM41015.1', 'WP_067914067.1', 'WP_055409222.1',\n",
       "       'WP_052681085.1', 'WP_043910498.1', 'WP_030395406.1',\n",
       "       'WP_073812873.1', 'WP_100586149.1', 'WP_043471630.1',\n",
       "       'WP_124778977.1', 'WP_104112270.1', 'WP_091119033.1',\n",
       "       'WP_091194826.1', 'WP_069088349.1', 'WP_113973036.1',\n",
       "       'WP_064445511.1', 'WP_123239725.1', 'WP_140946099.1',\n",
       "       'WP_094802417.1', 'WP_036552846.1', 'WP_107053211.1',\n",
       "       'WP_103492571.1', 'WP_028443134.1', 'KUJ69523.1', 'WP_103557568.1',\n",
       "       'WP_110952043.1', 'WP_106435855.1', 'WP_107069410.1',\n",
       "       'WP_131122990.1', 'WP_094795567.1', 'WP_131121992.1', 'BAU88116.1',\n",
       "       'WP_045701838.1', 'WP_078875237.1', 'WP_136242851.1',\n",
       "       'WP_093526515.1', 'WP_101419868.1', 'WP_078627588.1',\n",
       "       'WP_078898505.1', 'WP_145781355.1', 'WP_093723927.1', 'SCE20524.1',\n",
       "       'WP_107288389.1', 'WP_030302611.1', 'WP_062771000.1', 'KDQ65957.1',\n",
       "       'SBU93598.1', 'SCD35021.1', 'WP_093822013.1', 'WP_093863897.1',\n",
       "       'WP_078895379.1', 'WP_053642871.1', 'WP_018385945.1'], dtype=object)"
      ]
     },
     "execution_count": 38,
     "metadata": {},
     "output_type": "execute_result"
    }
   ],
   "source": [
    "data.proteinID.values"
   ]
  },
  {
   "cell_type": "code",
   "execution_count": null,
   "metadata": {},
   "outputs": [],
   "source": [
    "Entrez.email = \"dgarcia@eng.au.dk\"\n",
    "\n",
    "for i in data.proteinID.values:\n",
    "    filename = i.split('.')\n",
    "    handle = Entrez.efetch(db=\"protein\", id=i, rettype=\"fasta\", retmode=\"text\")\n",
    "    out_handle = open(filename[0]+'.fasta', \"w\")\n",
    "    out_handle.write(handle.read())\n",
    "    out_handle.close()\n",
    "    handle.close()\n",
    "    print(\"Save\")"
   ]
  }
 ],
 "metadata": {
  "kernelspec": {
   "display_name": "Python 3",
   "language": "python",
   "name": "python3"
  },
  "language_info": {
   "codemirror_mode": {
    "name": "ipython",
    "version": 3
   },
   "file_extension": ".py",
   "mimetype": "text/x-python",
   "name": "python",
   "nbconvert_exporter": "python",
   "pygments_lexer": "ipython3",
   "version": "3.6.7"
  }
 },
 "nbformat": 4,
 "nbformat_minor": 2
}
