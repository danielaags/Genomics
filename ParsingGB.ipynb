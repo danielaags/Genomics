{
 "cells": [
  {
   "cell_type": "markdown",
   "metadata": {},
   "source": [
    "# Parsing gene bank files"
   ]
  },
  {
   "cell_type": "markdown",
   "metadata": {},
   "source": [
    "### 1. Read GenBank"
   ]
  },
  {
   "cell_type": "markdown",
   "metadata": {},
   "source": [
    "There are different option to open a genbank file and parse it. One can access to almost every feature and printed in a nice way. It is also possible to save the output in a file."
   ]
  },
  {
   "cell_type": "code",
   "execution_count": 1,
   "metadata": {},
   "outputs": [
    {
     "data": {
      "text/plain": [
       "<Bio.GenBank.Record.Record at 0x5773c88>"
      ]
     },
     "execution_count": 1,
     "metadata": {},
     "output_type": "execute_result"
    }
   ],
   "source": [
    "from Bio import GenBank\n",
    "parser = GenBank.RecordParser()\n",
    "record = parser.parse(open(\"output_blastpGBfile_DG.gb\"))\n",
    "record"
   ]
  },
  {
   "cell_type": "code",
   "execution_count": 35,
   "metadata": {},
   "outputs": [],
   "source": [
    "#with open(\"output_blastpGBfile_DG.gb\") as handle:\n",
    "    #for record in GenBank.parse(handle):\n",
    "        #print(record. organism, record.accession, record.version)"
   ]
  },
  {
   "cell_type": "code",
   "execution_count": 31,
   "metadata": {},
   "outputs": [],
   "source": [
    "#Save in file, 'a' is an option to append and creates file if not existing\n",
    "f=open('info_outputblastpGB.txt', 'a')\n",
    "with open(\"output_blastpGBfile_DG.gb\") as handle:\n",
    "    for record in GenBank.parse(handle):\n",
    "        info = [record. organism, \"\\t\", record.version, '\\n']\n",
    "        f.writelines(info)\n",
    "\n",
    "f.close()"
   ]
  },
  {
   "cell_type": "code",
   "execution_count": 38,
   "metadata": {},
   "outputs": [],
   "source": [
    "#Check what is inside\n",
    "#dir(record)"
   ]
  },
  {
   "cell_type": "code",
   "execution_count": 33,
   "metadata": {
    "scrolled": true
   },
   "outputs": [],
   "source": [
    "#Other way to extract information from GB\n",
    "from Bio import SeqIO\n",
    "#for record in SeqIO.parse(\"output_blastpGBfile_DG.gb\", \"genbank\"):\n",
    "    #print (record.id, record.description, record.dbxrefs)"
   ]
  },
  {
   "cell_type": "markdown",
   "metadata": {},
   "source": [
    "### 2. Open txt and match organisms "
   ]
  },
  {
   "cell_type": "code",
   "execution_count": 36,
   "metadata": {},
   "outputs": [],
   "source": [
    "import numpy as np\n",
    "import pandas as pd"
   ]
  },
  {
   "cell_type": "code",
   "execution_count": 40,
   "metadata": {},
   "outputs": [
    {
     "data": {
      "text/html": [
       "<div>\n",
       "<style scoped>\n",
       "    .dataframe tbody tr th:only-of-type {\n",
       "        vertical-align: middle;\n",
       "    }\n",
       "\n",
       "    .dataframe tbody tr th {\n",
       "        vertical-align: top;\n",
       "    }\n",
       "\n",
       "    .dataframe thead th {\n",
       "        text-align: right;\n",
       "    }\n",
       "</style>\n",
       "<table border=\"1\" class=\"dataframe\">\n",
       "  <thead>\n",
       "    <tr style=\"text-align: right;\">\n",
       "      <th></th>\n",
       "      <th>Organism</th>\n",
       "      <th>proteinID</th>\n",
       "    </tr>\n",
       "  </thead>\n",
       "  <tbody>\n",
       "    <tr>\n",
       "      <th>0</th>\n",
       "      <td>Streptomyces sp. NBRC 110611</td>\n",
       "      <td>GAU68944.1</td>\n",
       "    </tr>\n",
       "    <tr>\n",
       "      <th>1</th>\n",
       "      <td>Streptomyces sp. NBRC 110611</td>\n",
       "      <td>WP_107288389.1</td>\n",
       "    </tr>\n",
       "    <tr>\n",
       "      <th>2</th>\n",
       "      <td>Streptomyces kasugaensis</td>\n",
       "      <td>WP_131121992.1</td>\n",
       "    </tr>\n",
       "    <tr>\n",
       "      <th>3</th>\n",
       "      <td>Streptomyces kasugaensis</td>\n",
       "      <td>WP_094795567.1</td>\n",
       "    </tr>\n",
       "    <tr>\n",
       "      <th>4</th>\n",
       "      <td>Streptomyces celluloflavus</td>\n",
       "      <td>WP_110952043.1</td>\n",
       "    </tr>\n",
       "  </tbody>\n",
       "</table>\n",
       "</div>"
      ],
      "text/plain": [
       "                       Organism       proteinID\n",
       "0  Streptomyces sp. NBRC 110611      GAU68944.1\n",
       "1  Streptomyces sp. NBRC 110611  WP_107288389.1\n",
       "2      Streptomyces kasugaensis  WP_131121992.1\n",
       "3      Streptomyces kasugaensis  WP_094795567.1\n",
       "4    Streptomyces celluloflavus  WP_110952043.1"
      ]
     },
     "execution_count": 40,
     "metadata": {},
     "output_type": "execute_result"
    }
   ],
   "source": [
    "fromOutput = pd.read_csv('info_outputblastpGB.txt', sep = '\\t', header = None)\n",
    "fromOutput.columns = [\"Organism\", 'proteinID']\n",
    "fromOutput.head()"
   ]
  },
  {
   "cell_type": "code",
   "execution_count": 48,
   "metadata": {
    "scrolled": true
   },
   "outputs": [
    {
     "data": {
      "text/html": [
       "<div>\n",
       "<style scoped>\n",
       "    .dataframe tbody tr th:only-of-type {\n",
       "        vertical-align: middle;\n",
       "    }\n",
       "\n",
       "    .dataframe tbody tr th {\n",
       "        vertical-align: top;\n",
       "    }\n",
       "\n",
       "    .dataframe thead th {\n",
       "        text-align: right;\n",
       "    }\n",
       "</style>\n",
       "<table border=\"1\" class=\"dataframe\">\n",
       "  <thead>\n",
       "    <tr style=\"text-align: right;\">\n",
       "      <th></th>\n",
       "      <th>GCF_id</th>\n",
       "      <th>Bioproject</th>\n",
       "      <th>Organism</th>\n",
       "    </tr>\n",
       "  </thead>\n",
       "  <tbody>\n",
       "    <tr>\n",
       "      <th>0</th>\n",
       "      <td>GCF_001590865.1</td>\n",
       "      <td>PRJNA224116</td>\n",
       "      <td>Streptomyces sp. NBRC 110611</td>\n",
       "    </tr>\n",
       "    <tr>\n",
       "      <th>1</th>\n",
       "      <td>GCF_002261115.1</td>\n",
       "      <td>PRJNA224116</td>\n",
       "      <td>Streptomyces kasugaensis</td>\n",
       "    </tr>\n",
       "    <tr>\n",
       "      <th>2</th>\n",
       "      <td>GCF_004320085.1</td>\n",
       "      <td>PRJNA224116</td>\n",
       "      <td>Streptomyces kasugaensis</td>\n",
       "    </tr>\n",
       "    <tr>\n",
       "      <th>3</th>\n",
       "      <td>GCF_000720995.1</td>\n",
       "      <td>PRJNA224116</td>\n",
       "      <td>Streptomyces celluloflavus</td>\n",
       "    </tr>\n",
       "    <tr>\n",
       "      <th>4</th>\n",
       "      <td>GCF_001709195.1</td>\n",
       "      <td>PRJNA224116</td>\n",
       "      <td>Micromonospora sp. II</td>\n",
       "    </tr>\n",
       "    <tr>\n",
       "      <th>5</th>\n",
       "      <td>GCF_002926165.1</td>\n",
       "      <td>PRJNA224116</td>\n",
       "      <td>Micromonospora chalcea</td>\n",
       "    </tr>\n",
       "    <tr>\n",
       "      <th>6</th>\n",
       "      <td>GCF_003298855.1</td>\n",
       "      <td>PRJNA224116</td>\n",
       "      <td>Micromonospora chalcea</td>\n",
       "    </tr>\n",
       "    <tr>\n",
       "      <th>7</th>\n",
       "      <td>GCF_003857125.1</td>\n",
       "      <td>PRJNA224116</td>\n",
       "      <td>Micromonospora chalcea</td>\n",
       "    </tr>\n",
       "    <tr>\n",
       "      <th>8</th>\n",
       "      <td>GCF_001652995.1</td>\n",
       "      <td>PRJNA224116</td>\n",
       "      <td>Micromonospora sp. NBRC 110037</td>\n",
       "    </tr>\n",
       "    <tr>\n",
       "      <th>9</th>\n",
       "      <td>GCF_900090225.1</td>\n",
       "      <td>PRJNA224116</td>\n",
       "      <td>Micromonospora eburnea</td>\n",
       "    </tr>\n",
       "  </tbody>\n",
       "</table>\n",
       "</div>"
      ],
      "text/plain": [
       "            GCF_id   Bioproject                        Organism\n",
       "0  GCF_001590865.1  PRJNA224116    Streptomyces sp. NBRC 110611\n",
       "1  GCF_002261115.1  PRJNA224116        Streptomyces kasugaensis\n",
       "2  GCF_004320085.1  PRJNA224116        Streptomyces kasugaensis\n",
       "3  GCF_000720995.1  PRJNA224116      Streptomyces celluloflavus\n",
       "4  GCF_001709195.1  PRJNA224116           Micromonospora sp. II\n",
       "5  GCF_002926165.1  PRJNA224116          Micromonospora chalcea\n",
       "6  GCF_003298855.1  PRJNA224116          Micromonospora chalcea\n",
       "7  GCF_003857125.1  PRJNA224116          Micromonospora chalcea\n",
       "8  GCF_001652995.1  PRJNA224116  Micromonospora sp. NBRC 110037\n",
       "9  GCF_900090225.1  PRJNA224116          Micromonospora eburnea"
      ]
     },
     "execution_count": 48,
     "metadata": {},
     "output_type": "execute_result"
    }
   ],
   "source": [
    "fromGCF = pd.read_csv('referenceGenome.txt', sep = '\\t', header = None)\n",
    "fromGCF.columns = [\"GCF_id\", 'Bioproject', 'Organism']\n",
    "fromGCF.head(10)"
   ]
  },
  {
   "cell_type": "code",
   "execution_count": 53,
   "metadata": {},
   "outputs": [],
   "source": [
    "#Merge\n",
    "GCFidsToUse = pd.merge(fromOutput, fromGCF, on = 'Organism', how = 'outer')\n",
    "GCFidsToUse = GCFidsToUse.loc[:,['Organism', 'proteinID', 'GCF_id']]\n",
    "GCFidsToUse.to_csv('GCFids_organism_protein.txt', sep = '\\t')"
   ]
  }
 ],
 "metadata": {
  "kernelspec": {
   "display_name": "Python 2",
   "language": "python",
   "name": "python2"
  },
  "language_info": {
   "codemirror_mode": {
    "name": "ipython",
    "version": 2
   },
   "file_extension": ".py",
   "mimetype": "text/x-python",
   "name": "python",
   "nbconvert_exporter": "python",
   "pygments_lexer": "ipython2",
   "version": "2.7.16"
  }
 },
 "nbformat": 4,
 "nbformat_minor": 2
}
