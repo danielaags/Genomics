{
 "cells": [
  {
   "cell_type": "code",
   "execution_count": 2,
   "metadata": {
    "kernel": "SoS"
   },
   "outputs": [],
   "source": [
    "import numpy as np\n",
    "import pandas as pd\n",
    "#Regular expression\n",
    "import re\n",
    "\n",
    "from Bio import SeqIO\n",
    "from Bio.SeqIO import FastaIO\n",
    "from Bio import Entrez\n",
    "from Bio import SeqIO\n"
   ]
  },
  {
   "cell_type": "markdown",
   "metadata": {
    "kernel": "SoS"
   },
   "source": [
    "## Find reference genomes with match"
   ]
  },
  {
   "cell_type": "code",
   "execution_count": 3,
   "metadata": {
    "kernel": "SoS"
   },
   "outputs": [
    {
     "data": {
      "text/html": [
       "<div>\n",
       "<style scoped>\n",
       "    .dataframe tbody tr th:only-of-type {\n",
       "        vertical-align: middle;\n",
       "    }\n",
       "\n",
       "    .dataframe tbody tr th {\n",
       "        vertical-align: top;\n",
       "    }\n",
       "\n",
       "    .dataframe thead th {\n",
       "        text-align: right;\n",
       "    }\n",
       "</style>\n",
       "<table border=\"1\" class=\"dataframe\">\n",
       "  <thead>\n",
       "    <tr style=\"text-align: right;\">\n",
       "      <th></th>\n",
       "      <th>label</th>\n",
       "      <th>cluster</th>\n",
       "    </tr>\n",
       "  </thead>\n",
       "  <tbody>\n",
       "    <tr>\n",
       "      <th>0</th>\n",
       "      <td>191123-29-5</td>\n",
       "      <td>1</td>\n",
       "    </tr>\n",
       "  </tbody>\n",
       "</table>\n",
       "</div>"
      ],
      "text/plain": [
       "         label  cluster\n",
       "0  191123-29-5        1"
      ]
     },
     "execution_count": 3,
     "metadata": {},
     "output_type": "execute_result"
    }
   ],
   "source": [
    "samples = pd.read_excel('SecondRound_16rRNAColonies.xlsx', index_col=None)\n",
    "samples.head(1)"
   ]
  },
  {
   "cell_type": "code",
   "execution_count": 5,
   "metadata": {
    "kernel": "SoS",
    "scrolled": true
   },
   "outputs": [
    {
     "data": {
      "text/html": [
       "<div>\n",
       "<style scoped>\n",
       "    .dataframe tbody tr th:only-of-type {\n",
       "        vertical-align: middle;\n",
       "    }\n",
       "\n",
       "    .dataframe tbody tr th {\n",
       "        vertical-align: top;\n",
       "    }\n",
       "\n",
       "    .dataframe thead th {\n",
       "        text-align: right;\n",
       "    }\n",
       "</style>\n",
       "<table border=\"1\" class=\"dataframe\">\n",
       "  <thead>\n",
       "    <tr style=\"text-align: right;\">\n",
       "      <th></th>\n",
       "      <th>sample name</th>\n",
       "      <th>cluster id</th>\n",
       "      <th>cluster acc</th>\n",
       "      <th># sequences</th>\n",
       "      <th>avg seq. ident.</th>\n",
       "      <th>similarity</th>\n",
       "      <th>sequence</th>\n",
       "      <th>reference</th>\n",
       "      <th>classifications</th>\n",
       "    </tr>\n",
       "  </thead>\n",
       "  <tbody>\n",
       "    <tr>\n",
       "      <th>0</th>\n",
       "      <td>39</td>\n",
       "      <td>R2-32-4_27f_16S_o0520_27f</td>\n",
       "      <td>1</td>\n",
       "      <td>100.0</td>\n",
       "      <td>99.09</td>\n",
       "      <td>CGGCAGCCGCGGGGAGCAATCCTGGCGGCGAGTGGCGAACGGGTGA...</td>\n",
       "      <td>JX644205.1.1461</td>\n",
       "      <td>ncbi|132|77133|root;cellular organisms;Bacteri...</td>\n",
       "      <td>silva|132|26462|Bacteria;Proteobacteria;Gammap...</td>\n",
       "    </tr>\n",
       "  </tbody>\n",
       "</table>\n",
       "</div>"
      ],
      "text/plain": [
       "   sample name                 cluster id  cluster acc  # sequences  \\\n",
       "0           39  R2-32-4_27f_16S_o0520_27f            1        100.0   \n",
       "\n",
       "   avg seq. ident.                                         similarity  \\\n",
       "0            99.09  CGGCAGCCGCGGGGAGCAATCCTGGCGGCGAGTGGCGAACGGGTGA...   \n",
       "\n",
       "          sequence                                          reference  \\\n",
       "0  JX644205.1.1461  ncbi|132|77133|root;cellular organisms;Bacteri...   \n",
       "\n",
       "                                     classifications  \n",
       "0  silva|132|26462|Bacteria;Proteobacteria;Gammap...  "
      ]
     },
     "execution_count": 5,
     "metadata": {},
     "output_type": "execute_result"
    }
   ],
   "source": [
    "#Before reading don't forget to remove first line\n",
    "reads = pd.read_csv('./round2_0620/r2_clusters_020520---ssu---otus.csv',delimiter='\\t')\n",
    "reads.reset_index(drop=True, inplace =True)\n",
    "reads.head(1)"
   ]
  },
  {
   "cell_type": "markdown",
   "metadata": {},
   "source": [
    "#### Get IDs to match\n",
    "Names are different in the two dataset, to merge the data I need to mofify the labels at the point where they will both match. "
   ]
  },
  {
   "cell_type": "code",
   "execution_count": 6,
   "metadata": {},
   "outputs": [
    {
     "data": {
      "text/plain": [
       "'29-5'"
      ]
     },
     "execution_count": 6,
     "metadata": {},
     "output_type": "execute_result"
    }
   ],
   "source": [
    "#IDs from data picked. This data comes from the clustering.\n",
    "idSamples = samples.iloc[:,0].values #Label\n",
    "ids = []\n",
    "for i in idSamples:\n",
    "    n = i.split('-')\n",
    "    m = n[1]+'-'+n[2]\n",
    "    ids.append(m)\n",
    "ids[0]"
   ]
  },
  {
   "cell_type": "code",
   "execution_count": 7,
   "metadata": {},
   "outputs": [
    {
     "data": {
      "text/html": [
       "<div>\n",
       "<style scoped>\n",
       "    .dataframe tbody tr th:only-of-type {\n",
       "        vertical-align: middle;\n",
       "    }\n",
       "\n",
       "    .dataframe tbody tr th {\n",
       "        vertical-align: top;\n",
       "    }\n",
       "\n",
       "    .dataframe thead th {\n",
       "        text-align: right;\n",
       "    }\n",
       "</style>\n",
       "<table border=\"1\" class=\"dataframe\">\n",
       "  <thead>\n",
       "    <tr style=\"text-align: right;\">\n",
       "      <th></th>\n",
       "      <th>label</th>\n",
       "      <th>cluster</th>\n",
       "    </tr>\n",
       "  </thead>\n",
       "  <tbody>\n",
       "    <tr>\n",
       "      <th>0</th>\n",
       "      <td>29-5</td>\n",
       "      <td>1</td>\n",
       "    </tr>\n",
       "  </tbody>\n",
       "</table>\n",
       "</div>"
      ],
      "text/plain": [
       "  label  cluster\n",
       "0  29-5        1"
      ]
     },
     "execution_count": 7,
     "metadata": {},
     "output_type": "execute_result"
    }
   ],
   "source": [
    "#New data frame with edited id labels and clusters\n",
    "d = {'label' : ids,\n",
    "    'cluster' : samples.loc[:,\"cluster\"].values}\n",
    "dfSam = pd.DataFrame(data = d)\n",
    "dfSam.head(1)"
   ]
  },
  {
   "cell_type": "code",
   "execution_count": 8,
   "metadata": {},
   "outputs": [
    {
     "data": {
      "text/plain": [
       "'32-4'"
      ]
     },
     "execution_count": 8,
     "metadata": {},
     "output_type": "execute_result"
    }
   ],
   "source": [
    "#IDs from sequencing run\n",
    "idSeq = reads.iloc[:,1]\n",
    "idsSeq =[]\n",
    "for i in idSeq:\n",
    "    n = i.split('_')\n",
    "    m = n[0]\n",
    "    #print(m)\n",
    "    o = m.split('-')\n",
    "    p = o[1]+'-'+o[2]\n",
    "    idsSeq.append(p)\n",
    "idsSeq[0]"
   ]
  },
  {
   "cell_type": "code",
   "execution_count": 9,
   "metadata": {},
   "outputs": [],
   "source": [
    "#Genome ID and start-stop positions\n",
    "sequence = reads.loc[:,'sequence'].values\n",
    "genomeID = []\n",
    "start = []\n",
    "end = []\n",
    "\n",
    "for i in sequence:\n",
    "    j = i.split('.')\n",
    "    genomeID.append(j[0])\n",
    "    start.append(int(j[1]))\n",
    "    end.append(int(j[2]))"
   ]
  },
  {
   "cell_type": "code",
   "execution_count": 10,
   "metadata": {
    "kernel": "SoS",
    "scrolled": true
   },
   "outputs": [
    {
     "data": {
      "text/html": [
       "<div>\n",
       "<style scoped>\n",
       "    .dataframe tbody tr th:only-of-type {\n",
       "        vertical-align: middle;\n",
       "    }\n",
       "\n",
       "    .dataframe tbody tr th {\n",
       "        vertical-align: top;\n",
       "    }\n",
       "\n",
       "    .dataframe thead th {\n",
       "        text-align: right;\n",
       "    }\n",
       "</style>\n",
       "<table border=\"1\" class=\"dataframe\">\n",
       "  <thead>\n",
       "    <tr style=\"text-align: right;\">\n",
       "      <th></th>\n",
       "      <th>label</th>\n",
       "      <th>sequence</th>\n",
       "      <th>start</th>\n",
       "      <th>end</th>\n",
       "      <th>reference</th>\n",
       "    </tr>\n",
       "  </thead>\n",
       "  <tbody>\n",
       "    <tr>\n",
       "      <th>0</th>\n",
       "      <td>32-4</td>\n",
       "      <td>JX644205</td>\n",
       "      <td>1</td>\n",
       "      <td>1461</td>\n",
       "      <td>ncbi|132|77133|root;cellular organisms;Bacteri...</td>\n",
       "    </tr>\n",
       "  </tbody>\n",
       "</table>\n",
       "</div>"
      ],
      "text/plain": [
       "  label  sequence  start   end  \\\n",
       "0  32-4  JX644205      1  1461   \n",
       "\n",
       "                                           reference  \n",
       "0  ncbi|132|77133|root;cellular organisms;Bacteri...  "
      ]
     },
     "execution_count": 10,
     "metadata": {},
     "output_type": "execute_result"
    }
   ],
   "source": [
    "#New data frame with edited id labels and \n",
    "#sequenceID (genomeID) as well as reference\n",
    "d = {'label' : idsSeq,\n",
    "    'sequence' : genomeID,\n",
    "     'start' : start,\n",
    "     'end' : end,\n",
    "    'reference' : reads.loc[:,\"reference\"].values}\n",
    "dfSeq = pd.DataFrame(data = d)\n",
    "dfSeq.head(1)"
   ]
  },
  {
   "cell_type": "code",
   "execution_count": 11,
   "metadata": {},
   "outputs": [
    {
     "data": {
      "text/html": [
       "<div>\n",
       "<style scoped>\n",
       "    .dataframe tbody tr th:only-of-type {\n",
       "        vertical-align: middle;\n",
       "    }\n",
       "\n",
       "    .dataframe tbody tr th {\n",
       "        vertical-align: top;\n",
       "    }\n",
       "\n",
       "    .dataframe thead th {\n",
       "        text-align: right;\n",
       "    }\n",
       "</style>\n",
       "<table border=\"1\" class=\"dataframe\">\n",
       "  <thead>\n",
       "    <tr style=\"text-align: right;\">\n",
       "      <th></th>\n",
       "      <th>label</th>\n",
       "      <th>cluster</th>\n",
       "      <th>sequence</th>\n",
       "      <th>start</th>\n",
       "      <th>end</th>\n",
       "      <th>reference</th>\n",
       "    </tr>\n",
       "  </thead>\n",
       "  <tbody>\n",
       "    <tr>\n",
       "      <th>0</th>\n",
       "      <td>25-19</td>\n",
       "      <td>1</td>\n",
       "      <td>AWQW01000275</td>\n",
       "      <td>1</td>\n",
       "      <td>1268</td>\n",
       "      <td>ncbi|132|1352941|root;cellular organisms;Bacte...</td>\n",
       "    </tr>\n",
       "  </tbody>\n",
       "</table>\n",
       "</div>"
      ],
      "text/plain": [
       "   label  cluster      sequence  start   end  \\\n",
       "0  25-19        1  AWQW01000275      1  1268   \n",
       "\n",
       "                                           reference  \n",
       "0  ncbi|132|1352941|root;cellular organisms;Bacte...  "
      ]
     },
     "execution_count": 11,
     "metadata": {},
     "output_type": "execute_result"
    }
   ],
   "source": [
    "df = pd.merge(dfSam, dfSeq, on='label')\n",
    "df.head(1)"
   ]
  },
  {
   "cell_type": "code",
   "execution_count": 12,
   "metadata": {},
   "outputs": [],
   "source": [
    "df.to_csv('R2allsequencesIDs.csv')"
   ]
  },
  {
   "cell_type": "markdown",
   "metadata": {},
   "source": [
    "## Get genome"
   ]
  },
  {
   "cell_type": "code",
   "execution_count": 13,
   "metadata": {},
   "outputs": [],
   "source": [
    "Entrez.email = \"dgarcia@eng.au.dk\"\n",
    "for i in df.iloc[:,2]:\n",
    "    ref = i.split('.')[0]\n",
    "    net_handle = Entrez.efetch(db = \"nuccore\", id = ref, rettype = \"fasta\", retmode = \"text\")\n",
    "    out_handle = open(ref+'.fasta', \"w\")\n",
    "    out_handle.write(net_handle.read())\n",
    "    out_handle.close()\n",
    "    net_handle.close()"
   ]
  },
  {
   "cell_type": "markdown",
   "metadata": {},
   "source": [
    "### Get sequence to align: 16SrRNA"
   ]
  },
  {
   "cell_type": "code",
   "execution_count": 15,
   "metadata": {},
   "outputs": [],
   "source": [
    "for g, s, e in zip(genomeID, start, end):\n",
    "    file = g+'.fasta'\n",
    "    outfile = g+'16SrRNA.fasta'\n",
    "    try:\n",
    "        with open(outfile, 'w') as f:\n",
    "            for seq_record in SeqIO.parse(file, \"fasta\"):\n",
    "                f.write(\">\"+str(seq_record.id) + \"\\n\")\n",
    "                f.write(str(seq_record.seq[s:e]) + \"\\n\")  #first 10 base positions\n",
    "    except:\n",
    "        pass"
   ]
  }
 ],
 "metadata": {
  "kernelspec": {
   "display_name": "Python 3",
   "language": "python",
   "name": "python3"
  },
  "language_info": {
   "codemirror_mode": {
    "name": "ipython",
    "version": 3
   },
   "file_extension": ".py",
   "mimetype": "text/x-python",
   "name": "python",
   "nbconvert_exporter": "python",
   "pygments_lexer": "ipython3",
   "version": "3.6.7"
  },
  "sos": {
   "kernels": [
    [
     "SoS",
     "sos",
     "",
     "",
     "sos"
    ]
   ],
   "panel": {
    "displayed": true,
    "height": 0
   },
   "version": "0.21.7"
  }
 },
 "nbformat": 4,
 "nbformat_minor": 2
}
