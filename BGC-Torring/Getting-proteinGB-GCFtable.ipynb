{
 "cells": [
  {
   "cell_type": "markdown",
   "metadata": {},
   "source": [
    "## 1. Parsing gene bank files"
   ]
  },
  {
   "cell_type": "markdown",
   "metadata": {},
   "source": [
    "### Read GenBank\n",
    "There are different option to open a genbank file and parse it. One can access to almost every feature and printed in a nice way. It is also possible to save the output in a file. We are going to use as an input the GB file that get got from our blastp search."
   ]
  },
  {
   "cell_type": "code",
   "execution_count": null,
   "metadata": {},
   "outputs": [],
   "source": [
    "from Bio import GenBank\n",
    "#Replace 'name-file' with the GB file that you got from the blastp run\n",
    "outputblastp = 'name-file.txt'"
   ]
  },
  {
   "cell_type": "markdown",
   "metadata": {},
   "source": [
    "We are going to extract the record ID and the organism name."
   ]
  },
  {
   "cell_type": "code",
   "execution_count": null,
   "metadata": {},
   "outputs": [],
   "source": [
    "#Save in file, 'a' is an option to append and creates file if not existing\n",
    "f=open('output-file.txt', 'a')#Create new file\n",
    "with open(outputblast) as handle:\n",
    "    for record in GenBank.parse(handle):\n",
    "        info = [record. organism, \"\\t\", record.version, '\\n']\n",
    "        f.writelines(info)\n",
    "\n",
    "f.close()"
   ]
  },
  {
   "cell_type": "markdown",
   "metadata": {},
   "source": [
    "Once we have the list pf organims with the proteinID, we are going to use it to access entrez"
   ]
  },
  {
   "cell_type": "markdown",
   "metadata": {
    "kernel": "SoS"
   },
   "source": [
    "## 2. Accesing entrez using BioPython"
   ]
  },
  {
   "cell_type": "code",
   "execution_count": 1,
   "metadata": {
    "kernel": "SoS"
   },
   "outputs": [],
   "source": [
    "import matplotlib.pyplot as plt\n",
    "import numpy as np\n",
    "\n",
    "#Pandas for data manipulation\n",
    "import pandas as pd\n",
    "\n",
    "from Bio import Entrez\n",
    "from Bio import SeqIO"
   ]
  },
  {
   "cell_type": "markdown",
   "metadata": {},
   "source": [
    "Go in ubuntu shell and extract unique organism names\n",
    "\n",
    "cat output_blastpGBfile.gb | grep -e 'ORGANISM' | cut -d 'M' -f2 > organism_blastp100.txt"
   ]
  },
  {
   "cell_type": "markdown",
   "metadata": {},
   "source": [
    "### Access genID from proteinID"
   ]
  },
  {
   "cell_type": "markdown",
   "metadata": {},
   "source": [
    "We are gonna use the list of proteinID and organims that we fetch from the gb file from the blastp output. We will use the proteinID number to match in between the protein database and the nuccore database. The nuccore database has the position in the genome to check in our refseq files (GCF)"
   ]
  },
  {
   "cell_type": "code",
   "execution_count": 23,
   "metadata": {},
   "outputs": [
    {
     "data": {
      "text/html": [
       "<div>\n",
       "<style scoped>\n",
       "    .dataframe tbody tr th:only-of-type {\n",
       "        vertical-align: middle;\n",
       "    }\n",
       "\n",
       "    .dataframe tbody tr th {\n",
       "        vertical-align: top;\n",
       "    }\n",
       "\n",
       "    .dataframe thead th {\n",
       "        text-align: right;\n",
       "    }\n",
       "</style>\n",
       "<table border=\"1\" class=\"dataframe\">\n",
       "  <thead>\n",
       "    <tr style=\"text-align: right;\">\n",
       "      <th></th>\n",
       "      <th>Organism</th>\n",
       "      <th>proteinID</th>\n",
       "    </tr>\n",
       "  </thead>\n",
       "  <tbody>\n",
       "    <tr>\n",
       "      <th>0</th>\n",
       "      <td>Myxococcus fulvus</td>\n",
       "      <td>WP_074958386.1</td>\n",
       "    </tr>\n",
       "    <tr>\n",
       "      <th>1</th>\n",
       "      <td>Brevibacillus agri</td>\n",
       "      <td>WP_025848602.1</td>\n",
       "    </tr>\n",
       "    <tr>\n",
       "      <th>2</th>\n",
       "      <td>Nostoc punctiforme NIES-2108</td>\n",
       "      <td>RCJ36599.1</td>\n",
       "    </tr>\n",
       "    <tr>\n",
       "      <th>3</th>\n",
       "      <td>Brevibacillus sp. CF112</td>\n",
       "      <td>EJL39661.1</td>\n",
       "    </tr>\n",
       "    <tr>\n",
       "      <th>4</th>\n",
       "      <td>Salinispora pacifica</td>\n",
       "      <td>WP_018812186.1</td>\n",
       "    </tr>\n",
       "  </tbody>\n",
       "</table>\n",
       "</div>"
      ],
      "text/plain": [
       "                       Organism       proteinID\n",
       "0             Myxococcus fulvus  WP_074958386.1\n",
       "1            Brevibacillus agri  WP_025848602.1\n",
       "2  Nostoc punctiforme NIES-2108      RCJ36599.1\n",
       "3       Brevibacillus sp. CF112      EJL39661.1\n",
       "4          Salinispora pacifica  WP_018812186.1"
      ]
     },
     "execution_count": 23,
     "metadata": {},
     "output_type": "execute_result"
    }
   ],
   "source": [
    "fromOutput = pd.read_csv('output-file.txt', sep = '\\t', header = None)\n",
    "fromOutput.columns = [\"Organism\", 'proteinID']\n",
    "fromOutput.head()"
   ]
  },
  {
   "cell_type": "code",
   "execution_count": 19,
   "metadata": {},
   "outputs": [
    {
     "data": {
      "text/plain": [
       "0        NER75497.1\n",
       "1        OQY56350.1\n",
       "2        NER75085.1\n",
       "3    WP_089128067.1\n",
       "4    WP_131121152.1\n",
       "5        TBR56966.1\n",
       "6    WP_017308762.1\n",
       "7    WP_096657262.1\n",
       "8        NEP58315.1\n",
       "9    WP_020930534.1\n",
       "Name: proteinID, dtype: object"
      ]
     },
     "execution_count": 19,
     "metadata": {},
     "output_type": "execute_result"
    }
   ],
   "source": [
    "fromOutput.iloc[0:10,1]"
   ]
  },
  {
   "cell_type": "markdown",
   "metadata": {},
   "source": [
    "#### Get all at once and save"
   ]
  },
  {
   "cell_type": "code",
   "execution_count": 24,
   "metadata": {},
   "outputs": [
    {
     "name": "stdout",
     "output_type": "stream",
     "text": [
      "('Save', 'WP_074958386.1')\n",
      "('Save', 'WP_025848602.1')\n",
      "('Save', 'RCJ36599.1')\n",
      "('Save', 'EJL39661.1')\n",
      "('Save', 'WP_018812186.1')\n",
      "('Save', 'WP_145920409.1')\n",
      "('Save', 'WP_027657832.1')\n",
      "('Save', 'WP_029130478.1')\n",
      "('Save', 'WP_029122349.1')\n",
      "('Save', 'WP_027648442.1')\n",
      "('Save', 'WP_028185298.1')\n",
      "('Save', 'PZM89247.1')\n",
      "('Save', 'WP_095980633.1')\n",
      "('Save', 'WP_018221345.1')\n",
      "('Save', 'GAE86709.1')\n",
      "('Save', 'WP_025707137.1')\n",
      "('Save', 'WP_122966474.1')\n",
      "('Save', 'WP_132396141.1')\n",
      "('Save', 'WP_154970308.1')\n",
      "('Save', 'WP_156218292.1')\n",
      "('Save', 'WP_104303383.1')\n",
      "('Save', 'WP_045085970.1')\n",
      "('Save', 'WP_019912658.1')\n",
      "('Save', 'WP_012166727.1')\n",
      "('Save', 'WP_080716149.1')\n",
      "('Save', 'OEU80474.1')\n",
      "('Save', 'WP_051352696.1')\n",
      "('Save', 'RMH16883.1')\n",
      "('Save', 'WP_026736224.1')\n",
      "('Save', 'PYP93107.1')\n",
      "('Save', 'WP_066949623.1')\n",
      "('Save', 'OJY15894.1')\n",
      "('Save', 'WP_063231157.1')\n",
      "('Save', 'PZN93824.1')\n",
      "('Save', 'RYE58907.1')\n",
      "('Save', 'WP_102170635.1')\n",
      "('Save', 'WP_153292222.1')\n",
      "('Save', 'WP_014314299.1')\n",
      "('Save', 'WP_062525444.1')\n",
      "('Save', 'WP_010249924.1')\n",
      "('Save', 'KWX83439.1')\n",
      "('Save', 'WP_102175159.1')\n",
      "('Save', 'RCJ36614.1')\n",
      "('Save', 'PIE14235.1')\n",
      "('Save', 'WP_012889146.1')\n",
      "('Save', 'WP_155215051.1')\n",
      "('Save', 'WP_096562257.1')\n",
      "('Save', 'WP_086688517.1')\n",
      "('Save', 'WP_102166433.1')\n",
      "('Save', 'WP_067143848.1')\n",
      "('Save', 'WP_101607236.1')\n",
      "('Save', 'WP_039837473.1')\n",
      "('Save', 'WP_015925759.1')\n",
      "('Save', 'WP_015155652.1')\n",
      "('Save', 'WP_088907636.1')\n",
      "('Save', 'WP_125798801.1')\n",
      "('Save', 'WP_091106481.1')\n",
      "('Save', 'WP_111135450.1')\n",
      "('Save', 'WP_131759925.1')\n",
      "('Save', 'WP_125690918.1')\n",
      "('Save', 'WP_048033110.1')\n",
      "('Save', 'WP_102147066.1')\n",
      "('Save', 'WP_161860667.1')\n",
      "('Save', 'RMD90311.1')\n",
      "('Save', 'WP_020814877.1')\n",
      "('Save', 'WP_089002952.1')\n",
      "('Save', 'WP_056487493.1')\n",
      "('Save', 'WP_093020321.1')\n",
      "('Save', 'WP_052260663.1')\n",
      "('Save', 'WP_104986761.1')\n",
      "('Save', 'WP_146005882.1')\n",
      "('Save', 'WP_038071988.1')\n",
      "('Save', 'WP_063231170.1')\n",
      "('Save', 'WP_129581020.1')\n",
      "('Save', 'WP_104576195.1')\n",
      "('Save', 'WP_089125742.1')\n",
      "('Save', 'WP_154832017.1')\n",
      "('Save', 'WP_060863316.1')\n",
      "('Save', 'WP_043848779.1')\n",
      "('Save', 'WP_055797930.1')\n",
      "('Save', 'WP_037519351.1')\n",
      "('Save', 'WP_062246095.1')\n",
      "('Save', 'WP_154970297.1')\n",
      "('Save', 'WP_135239825.1')\n",
      "('Save', 'WP_104114544.1')\n",
      "('Save', 'WP_015114256.1')\n",
      "('Save', 'WP_074312124.1')\n",
      "('Save', 'OCQ97716.1')\n",
      "('Save', 'WP_056690162.1')\n",
      "('Save', 'WP_069347602.1')\n",
      "('Save', 'WP_041038271.1')\n",
      "('Save', 'WP_004616554.1')\n",
      "('Save', 'KYF85409.1')\n",
      "('Save', 'WP_073555339.1')\n",
      "('Save', 'PYT33732.1')\n",
      "('Save', 'WP_020431303.1')\n",
      "('Save', 'WP_025705087.1')\n",
      "('Save', 'WP_125794583.1')\n",
      "('Save', 'WP_109801469.1')\n",
      "('Save', 'OYE02708.1')\n",
      "('Save', 'WP_120613648.1')\n",
      "('Save', 'WP_130325668.1')\n",
      "('Save', 'WP_121683566.1')\n",
      "('Save', 'WP_148483837.1')\n",
      "('Save', 'WP_016866914.1')\n",
      "('Save', 'WP_009456264.1')\n",
      "('Save', 'WP_026086529.1')\n",
      "('Save', 'WP_094329469.1')\n",
      "('Save', 'WP_143855552.1')\n",
      "('Save', 'WP_102222482.1')\n",
      "('Save', 'WP_111167525.1')\n",
      "('Save', 'WP_059151236.1')\n",
      "('Save', 'WP_151990854.1')\n",
      "('Save', 'KMS56385.1')\n",
      "('Save', 'WP_039837461.1')\n",
      "('Save', 'WP_031168081.1')\n",
      "('Save', 'TWH65087.1')\n",
      "('Save', 'WP_030269092.1')\n",
      "('Save', 'WP_102148324.1')\n",
      "('Save', 'WP_151013113.1')\n",
      "('Save', 'WP_145823640.1')\n",
      "('Save', 'WP_073829799.1')\n",
      "('Save', 'WP_091328405.1')\n",
      "('Save', 'WP_116510513.1')\n",
      "('Save', 'WP_050432983.1')\n",
      "('Save', 'PMB08487.1')\n",
      "('Save', 'WP_102175878.1')\n",
      "('Save', 'WP_114920235.1')\n",
      "('Save', 'WP_019912672.1')\n",
      "('Save', 'WP_013285948.1')\n",
      "('Save', 'WP_047891973.1')\n",
      "('Save', 'WP_071095326.1')\n",
      "('Save', 'WP_086578789.1')\n",
      "('Save', 'WP_096555585.1')\n",
      "('Save', 'PYQ38222.1')\n",
      "('Save', 'WP_013477062.1')\n",
      "('Save', 'WP_037348399.1')\n",
      "('Save', 'WP_062246113.1')\n",
      "('Save', 'WP_093896634.1')\n",
      "('Save', 'WP_005151648.1')\n",
      "('Save', 'WP_104899371.1')\n",
      "('Save', 'RMF30492.1')\n",
      "('Save', 'WP_055477898.1')\n",
      "('Save', 'VFJ75372.1')\n",
      "('Save', 'WP_089125741.1')\n",
      "('Save', 'KIR62223.1')\n",
      "('Save', 'WP_104901377.1')\n",
      "('Save', 'SFO58424.1')\n",
      "('Save', 'SPT57320.1')\n",
      "('Save', 'WP_101413178.1')\n",
      "('Save', 'WP_162650440.1')\n",
      "('Save', 'WP_143855623.1')\n",
      "('Save', 'WP_112476176.1')\n",
      "('Save', 'WP_102185130.1')\n",
      "('Save', 'WP_060863326.1')\n",
      "('Save', 'WP_125316201.1')\n",
      "('Save', 'RGC69159.1')\n",
      "('Save', 'WP_006512447.1')\n",
      "('Save', 'WP_117667817.1')\n",
      "('Save', 'WP_120330923.1')\n",
      "('Save', 'WP_091589547.1')\n",
      "('Save', 'RKZ92378.1')\n",
      "('Save', 'OEU77276.1')\n",
      "('Save', 'TNF22698.1')\n",
      "('Save', 'WP_160698423.1')\n",
      "('Save', 'WP_093238871.1')\n",
      "('Save', 'WP_048866325.1')\n",
      "('Save', 'WP_129356022.1')\n",
      "('Save', 'WP_093015775.1')\n",
      "('Save', 'WP_086857215.1')\n",
      "('Save', 'WP_127931597.1')\n",
      "('Save', 'WP_052505884.1')\n",
      "('Save', 'WP_133854449.1')\n",
      "('Save', 'WP_034307986.1')\n",
      "('Save', 'WP_057794538.1')\n",
      "('Save', 'WP_126631270.1')\n",
      "('Save', 'WP_113129029.1')\n",
      "('Save', 'SFB44039.1')\n",
      "('Save', 'WP_064446186.1')\n",
      "('Save', 'WP_038296496.1')\n",
      "('Save', 'WP_159978968.1')\n",
      "('Save', 'WP_094331930.1')\n",
      "('Save', 'OZV83662.1')\n",
      "('Save', 'WP_091311100.1')\n",
      "('Save', 'RMD95401.1')\n",
      "('Save', 'WP_151499038.1')\n",
      "('Save', 'WP_108786394.1')\n",
      "('Save', 'WP_088985967.1')\n",
      "('Save', 'WP_033260583.1')\n",
      "('Save', 'WP_125682930.1')\n",
      "('Save', 'WP_091427187.1')\n",
      "('Save', 'WP_113973830.1')\n",
      "('Save', 'WP_083458533.1')\n",
      "('Save', 'WP_003058751.1')\n",
      "('Save', 'WP_103096370.1')\n",
      "('Save', 'WP_086934286.1')\n",
      "('Save', 'WP_126628726.1')\n",
      "('Save', 'WP_106238027.1')\n",
      "('Save', 'WP_107959374.1')\n",
      "('Save', 'WP_113285235.1')\n",
      "('Save', 'WP_148284626.1')\n",
      "('Save', 'WP_152476315.1')\n",
      "('Save', 'WP_020542771.1')\n",
      "('Save', 'WP_058262127.1')\n",
      "('Save', 'WP_062525464.1')\n",
      "('Save', 'WP_127047110.1')\n",
      "('Save', 'WP_082722753.1')\n",
      "('Save', 'WP_069088197.1')\n",
      "('Save', 'WP_152592728.1')\n",
      "('Save', 'WP_148431892.1')\n",
      "('Save', 'WP_062181625.1')\n",
      "('Save', 'WP_094329096.1')\n",
      "('Save', 'WP_091281598.1')\n",
      "('Save', 'SCE97371.1')\n",
      "('Save', 'WP_091089112.1')\n",
      "('Save', 'OEU84742.1')\n",
      "('Save', 'OEU49473.1')\n",
      "('Save', 'WP_148797994.1')\n",
      "('Save', 'WP_140946037.1')\n",
      "('Save', 'TAH12997.1')\n",
      "('Save', 'KYF56383.1')\n",
      "('Save', 'WP_090766076.1')\n",
      "('Save', 'WP_091309243.1')\n",
      "('Save', 'WP_086769017.1')\n",
      "('Save', 'WP_045867392.1')\n",
      "('Save', 'WP_090929967.1')\n",
      "('Save', 'WP_105373138.1')\n"
     ]
    }
   ],
   "source": [
    "#All at once \n",
    "Entrez.email = \"dgarcia@eng.au.dk\"\n",
    "for i in fromOutput.iloc[:,1]:\n",
    "    filename = i.split('.')\n",
    "    #print(filename[0])\n",
    "    handle = Entrez.elink(dbfrom = \"protein\", db = \"nuccore\", id = i)\n",
    "    try:\n",
    "        record = Entrez.read(handle)\n",
    "        #print(record)\n",
    "        #Fetch nuccore id\n",
    "        if len(record[0][\"LinkSetDb\"]) == 2:\n",
    "            net_handle = Entrez.efetch(db = \"nuccore\", id = record[0][\"LinkSetDb\"][0][\"Link\"][0][\"Id\"], rettype = \"gb\", retmode = \"text\")\n",
    "            out_handle = open(filename[0]+'.gb', \"w\")\n",
    "            out_handle.write(net_handle.read())\n",
    "            out_handle.close()\n",
    "            net_handle.close()\n",
    "            #print can be removed if wanted\n",
    "            print(\"Save\", i)\n",
    "        handle.close()\n",
    "    except:\n",
    "        pass\n"
   ]
  },
  {
   "cell_type": "markdown",
   "metadata": {},
   "source": [
    "We have extracted all the genbank files from the different proteins identified in the blastp search we will use the genbank files to extract the required ID GCF assemblies that we are going to download using bash scripts."
   ]
  },
  {
   "cell_type": "markdown",
   "metadata": {},
   "source": [
    "## 3. Table of GCF-ids"
   ]
  },
  {
   "cell_type": "markdown",
   "metadata": {},
   "source": [
    "Get the overview table where organism names are linked with their GCF id. This is needed to extract the correct genomic fragment to use as an input in antiSmash."
   ]
  },
  {
   "cell_type": "code",
   "execution_count": null,
   "metadata": {},
   "outputs": [],
   "source": [
    "#Read file generated from running line from downloadingGenomes.sh\n",
    "fromGCF = pd.read_csv('referenceGenome.txt', sep = '\\t', header = None)\n",
    "#fromGCF.columns = [\"GCF_id\", 'Bioproject', 'Organism']\n",
    "fromGCF.columns = [\"GCF_id\", 'Organism']\n",
    "fromGCF.head(10)"
   ]
  },
  {
   "cell_type": "markdown",
   "metadata": {},
   "source": [
    "Merge both documents"
   ]
  },
  {
   "cell_type": "code",
   "execution_count": null,
   "metadata": {},
   "outputs": [],
   "source": [
    "#Merge\n",
    "GCFidsToUse = pd.merge(fromOutput, fromGCF, on = 'Organism', how = 'outer')\n",
    "GCFidsToUse = GCFidsToUse.loc[:,['Organism', 'proteinID', 'GCF_id']]\n",
    "GCFidsToUse.to_csv('GCFids_organism_protein.txt', sep = '\\t')"
   ]
  }
 ],
 "metadata": {
  "kernelspec": {
   "display_name": "Python 2",
   "language": "python",
   "name": "python2"
  },
  "language_info": {
   "codemirror_mode": {
    "name": "ipython",
    "version": 2
   },
   "file_extension": ".py",
   "mimetype": "text/x-python",
   "name": "python",
   "nbconvert_exporter": "python",
   "pygments_lexer": "ipython2",
   "version": "2.7.16"
  },
  "sos": {
   "kernels": [],
   "panel": {
    "displayed": true,
    "height": 0
   },
   "version": "0.21.7"
  }
 },
 "nbformat": 4,
 "nbformat_minor": 2
}
