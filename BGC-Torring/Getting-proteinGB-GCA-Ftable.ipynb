{
 "cells": [
  {
   "cell_type": "markdown",
   "metadata": {},
   "source": [
    "## 1. Parsing gene bank files"
   ]
  },
  {
   "cell_type": "markdown",
   "metadata": {},
   "source": [
    "### Read GenBank\n",
    "There are different option to open a genbank file and parse it. One can access to almost every feature and printed in a nice way. It is also possible to save the output in a file. We are going to use as an input the GB file that get got from our blastp search."
   ]
  },
  {
   "cell_type": "code",
   "execution_count": 9,
   "metadata": {},
   "outputs": [],
   "source": [
    "from Bio import GenBank\n",
    "#Replace 'name-file' with the GB file that you got from the blastp run\n",
    "outputblast = 'output-blastp_gb.txt'"
   ]
  },
  {
   "cell_type": "markdown",
   "metadata": {},
   "source": [
    "We are going to extract the record ID and the organism name."
   ]
  },
  {
   "cell_type": "code",
   "execution_count": 10,
   "metadata": {},
   "outputs": [],
   "source": [
    "#Save in file, 'a' is an option to append and creates file if not existing\n",
    "f=open('informationFromBlastp.txt', 'a')#Create new file\n",
    "with open(outputblast) as handle:\n",
    "    for record in GenBank.parse(handle):\n",
    "        info = [record. organism, \"\\t\", record.version, '\\n']\n",
    "        f.writelines(info)\n",
    "\n",
    "f.close()"
   ]
  },
  {
   "cell_type": "markdown",
   "metadata": {},
   "source": [
    "Once we have the list pf organims with the proteinID, we are going to use it to access entrez"
   ]
  },
  {
   "cell_type": "markdown",
   "metadata": {
    "kernel": "SoS"
   },
   "source": [
    "## 2. Accesing entrez using BioPython"
   ]
  },
  {
   "cell_type": "code",
   "execution_count": 11,
   "metadata": {
    "kernel": "SoS"
   },
   "outputs": [],
   "source": [
    "import matplotlib.pyplot as plt\n",
    "import numpy as np\n",
    "\n",
    "#Pandas for data manipulation\n",
    "import pandas as pd\n",
    "\n",
    "from Bio import Entrez\n",
    "from Bio import SeqIO"
   ]
  },
  {
   "cell_type": "markdown",
   "metadata": {},
   "source": [
    "Go in ubuntu shell and extract unique organism names\n",
    "\n",
    "cat output_blastpGBfile.gb | grep -e 'ORGANISM' | cut -d 'M' -f2 > organism_blastp100.txt"
   ]
  },
  {
   "cell_type": "markdown",
   "metadata": {},
   "source": [
    "### Access genID from proteinID"
   ]
  },
  {
   "cell_type": "markdown",
   "metadata": {},
   "source": [
    "We are gonna use the list of proteinID and organims that we fetch from the gb file from the blastp output. We will use the proteinID number to match in between the protein database and the nuccore database. The nuccore database has the position in the genome to check in our refseq files (GCF)"
   ]
  },
  {
   "cell_type": "code",
   "execution_count": 15,
   "metadata": {},
   "outputs": [
    {
     "data": {
      "text/html": [
       "<div>\n",
       "<style scoped>\n",
       "    .dataframe tbody tr th:only-of-type {\n",
       "        vertical-align: middle;\n",
       "    }\n",
       "\n",
       "    .dataframe tbody tr th {\n",
       "        vertical-align: top;\n",
       "    }\n",
       "\n",
       "    .dataframe thead th {\n",
       "        text-align: right;\n",
       "    }\n",
       "</style>\n",
       "<table border=\"1\" class=\"dataframe\">\n",
       "  <thead>\n",
       "    <tr style=\"text-align: right;\">\n",
       "      <th></th>\n",
       "      <th>Organism</th>\n",
       "      <th>proteinID</th>\n",
       "    </tr>\n",
       "  </thead>\n",
       "  <tbody>\n",
       "    <tr>\n",
       "      <th>0</th>\n",
       "      <td>Streptomyces celluloflavus</td>\n",
       "      <td>WP_110952043.1</td>\n",
       "    </tr>\n",
       "    <tr>\n",
       "      <th>1</th>\n",
       "      <td>Planktothrix rubescens</td>\n",
       "      <td>ACG63859.1</td>\n",
       "    </tr>\n",
       "  </tbody>\n",
       "</table>\n",
       "</div>"
      ],
      "text/plain": [
       "                     Organism       proteinID\n",
       "0  Streptomyces celluloflavus  WP_110952043.1\n",
       "1      Planktothrix rubescens      ACG63859.1"
      ]
     },
     "execution_count": 15,
     "metadata": {},
     "output_type": "execute_result"
    }
   ],
   "source": [
    "fromOutput = pd.read_csv('informationFromBlastp.txt', sep = '\\t', header = None)\n",
    "fromOutput.columns = [\"Organism\", 'proteinID']\n",
    "fromOutput.head()"
   ]
  },
  {
   "cell_type": "code",
   "execution_count": 8,
   "metadata": {},
   "outputs": [],
   "source": [
    "#fromOutput.iloc[0:10,1]"
   ]
  },
  {
   "cell_type": "markdown",
   "metadata": {},
   "source": [
    "#### Get all at once and save"
   ]
  },
  {
   "cell_type": "code",
   "execution_count": 18,
   "metadata": {},
   "outputs": [
    {
     "name": "stdout",
     "output_type": "stream",
     "text": [
      "('Save', 'WP_110952043.1')\n"
     ]
    }
   ],
   "source": [
    "#All at once \n",
    "#Save assemblies downloaded\n",
    "save = []\n",
    "Entrez.email = \"dgarcia@eng.au.dk\"\n",
    "for i in fromOutput.iloc[:,1]:\n",
    "    filename = i.split('.')\n",
    "    #print(filename[0])\n",
    "    handle = Entrez.elink(dbfrom = \"protein\", db = \"nuccore\", id = i)\n",
    "    try:\n",
    "        record = Entrez.read(handle)\n",
    "        #print(record)\n",
    "        #Fetch nuccore id\n",
    "        if len(record[0][\"LinkSetDb\"]) == 2:\n",
    "            net_handle = Entrez.efetch(db = \"nuccore\", id = record[0][\"LinkSetDb\"][0][\"Link\"][0][\"Id\"], rettype = \"gb\", retmode = \"text\")\n",
    "            out_handle = open(filename[0]+'.gb', \"w\")\n",
    "            out_handle.write(net_handle.read())\n",
    "            out_handle.close()\n",
    "            net_handle.close()\n",
    "            #Save genbank files found\n",
    "            save.append(i)\n",
    "            #print can be removed if wanted\n",
    "            print(\"Save\", i)\n",
    "        handle.close()\n",
    "    except:\n",
    "        pass\n"
   ]
  },
  {
   "cell_type": "code",
   "execution_count": 22,
   "metadata": {},
   "outputs": [
    {
     "name": "stderr",
     "output_type": "stream",
     "text": [
      "C:\\Users\\au648169\\AppData\\Local\\Continuum\\anaconda2\\lib\\site-packages\\ipykernel_launcher.py:2: FutureWarning: The signature of `Series.to_csv` was aligned to that of `DataFrame.to_csv`, and argument 'header' will change its default value from False to True: please pass an explicit value to suppress this warning.\n",
      "  \n"
     ]
    }
   ],
   "source": [
    "genbankfilesSaved = pd.Series(save)\n",
    "genbankfilesSaved.to_csv('genbankfilesSaved.txt', sep ='\\t', index = False)"
   ]
  },
  {
   "cell_type": "markdown",
   "metadata": {},
   "source": [
    "We have extracted all the genbank files from the different proteins identified in the blastp search we will use the genbank files to extract the required ID GCF assemblies that we are going to download using bash scripts."
   ]
  },
  {
   "cell_type": "markdown",
   "metadata": {},
   "source": [
    "## 3. Table of GCF ir GCA-ids"
   ]
  },
  {
   "cell_type": "markdown",
   "metadata": {},
   "source": [
    "Get the overview table where organism names are linked with their GCF id. This is needed to extract the correct genomic fragment to use as an input in antiSmash."
   ]
  },
  {
   "cell_type": "code",
   "execution_count": null,
   "metadata": {},
   "outputs": [],
   "source": [
    "#Read file generated from running line from downloadingGenomes.sh\n",
    "fromGCF = pd.read_csv('referenceGenome.txt', sep = '\\t', header = None)\n",
    "#fromGCF.columns = [\"GCF_id\", 'Bioproject', 'Organism']\n",
    "fromGCF.columns = [\"GCF_id\", 'Organism']\n",
    "fromGCF.head(10)"
   ]
  },
  {
   "cell_type": "markdown",
   "metadata": {},
   "source": [
    "Merge both documents"
   ]
  },
  {
   "cell_type": "code",
   "execution_count": null,
   "metadata": {},
   "outputs": [],
   "source": [
    "#Merge\n",
    "GCFidsToUse = pd.merge(fromOutput, fromGCF, on = 'Organism', how = 'outer')\n",
    "GCFidsToUse = GCFidsToUse.loc[:,['Organism', 'proteinID', 'GCF_id']]\n",
    "GCFidsToUse.to_csv('GCFids_organism_protein.txt', sep = '\\t')"
   ]
  }
 ],
 "metadata": {
  "kernelspec": {
   "display_name": "Python 2",
   "language": "python",
   "name": "python2"
  },
  "language_info": {
   "codemirror_mode": {
    "name": "ipython",
    "version": 2
   },
   "file_extension": ".py",
   "mimetype": "text/x-python",
   "name": "python",
   "nbconvert_exporter": "python",
   "pygments_lexer": "ipython2",
   "version": "2.7.16"
  },
  "sos": {
   "kernels": [],
   "panel": {
    "displayed": true,
    "height": 0
   },
   "version": "0.21.7"
  }
 },
 "nbformat": 4,
 "nbformat_minor": 2
}
