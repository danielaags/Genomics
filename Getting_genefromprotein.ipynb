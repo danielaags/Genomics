{
 "cells": [
  {
   "cell_type": "markdown",
   "metadata": {
    "kernel": "SoS"
   },
   "source": [
    "## Accesing entrez using BioPython"
   ]
  },
  {
   "cell_type": "code",
   "execution_count": 2,
   "metadata": {
    "kernel": "SoS"
   },
   "outputs": [],
   "source": [
    "import matplotlib.pyplot as plt\n",
    "import numpy as np\n",
    "\n",
    "#Pandas for data manipulation\n",
    "import pandas as pd\n",
    "\n",
    "from Bio import Entrez\n",
    "from Bio import SeqIO"
   ]
  },
  {
   "cell_type": "markdown",
   "metadata": {},
   "source": [
    "Go in ubuntu shell and extract unique organism names\n",
    "\n",
    "cat output_blastpGBfile.gb | grep -e 'ORGANISM' | cut -d 'M' -f2 > organism_blastp100.txt"
   ]
  },
  {
   "cell_type": "markdown",
   "metadata": {},
   "source": [
    "### Access genID from proteinID"
   ]
  },
  {
   "cell_type": "markdown",
   "metadata": {},
   "source": [
    "Access using the protein ID. Since it is the same, we will start after this step."
   ]
  },
  {
   "cell_type": "code",
   "execution_count": 7,
   "metadata": {},
   "outputs": [],
   "source": [
    "#Test with only one\n",
    "Entrez.email = \"dgarcia@eng.au.dk\"\n",
    "handle = Entrez.esearch(db=\"protein\", term='GAU68944.1 [Acc]', idtype=\"acc\")\n",
    "#handle = Entrez.esearch(db=\"nucleotide\", retmax=10, term=\"opuntia[ORGN] accD\", idtype=\"acc\")\n",
    "record = Entrez.read(handle)\n",
    "handle.close()\n",
    "#record"
   ]
  },
  {
   "cell_type": "code",
   "execution_count": 8,
   "metadata": {},
   "outputs": [],
   "source": [
    "import numpy as np\n",
    "import pandas as pd"
   ]
  },
  {
   "cell_type": "markdown",
   "metadata": {},
   "source": [
    "We are gonna use the list of proteinID and organims that we fetch from the gb file from the blastp output. We will use the proteinID number to match in between the protein database and the nuccore database. The nuccore database has the position in the genome to check in our refseq files (GCF)"
   ]
  },
  {
   "cell_type": "code",
   "execution_count": 26,
   "metadata": {},
   "outputs": [
    {
     "data": {
      "text/html": [
       "<div>\n",
       "<style scoped>\n",
       "    .dataframe tbody tr th:only-of-type {\n",
       "        vertical-align: middle;\n",
       "    }\n",
       "\n",
       "    .dataframe tbody tr th {\n",
       "        vertical-align: top;\n",
       "    }\n",
       "\n",
       "    .dataframe thead th {\n",
       "        text-align: right;\n",
       "    }\n",
       "</style>\n",
       "<table border=\"1\" class=\"dataframe\">\n",
       "  <thead>\n",
       "    <tr style=\"text-align: right;\">\n",
       "      <th></th>\n",
       "      <th>Organism</th>\n",
       "      <th>proteinID</th>\n",
       "    </tr>\n",
       "  </thead>\n",
       "  <tbody>\n",
       "    <tr>\n",
       "      <th>0</th>\n",
       "      <td>Streptomyces sp. NBRC 110611</td>\n",
       "      <td>GAU68944.1</td>\n",
       "    </tr>\n",
       "    <tr>\n",
       "      <th>1</th>\n",
       "      <td>Streptomyces sp. NBRC 110611</td>\n",
       "      <td>WP_107288389.1</td>\n",
       "    </tr>\n",
       "    <tr>\n",
       "      <th>2</th>\n",
       "      <td>Streptomyces kasugaensis</td>\n",
       "      <td>WP_131121992.1</td>\n",
       "    </tr>\n",
       "    <tr>\n",
       "      <th>3</th>\n",
       "      <td>Streptomyces kasugaensis</td>\n",
       "      <td>WP_094795567.1</td>\n",
       "    </tr>\n",
       "    <tr>\n",
       "      <th>4</th>\n",
       "      <td>Streptomyces celluloflavus</td>\n",
       "      <td>WP_110952043.1</td>\n",
       "    </tr>\n",
       "  </tbody>\n",
       "</table>\n",
       "</div>"
      ],
      "text/plain": [
       "                       Organism       proteinID\n",
       "0  Streptomyces sp. NBRC 110611      GAU68944.1\n",
       "1  Streptomyces sp. NBRC 110611  WP_107288389.1\n",
       "2      Streptomyces kasugaensis  WP_131121992.1\n",
       "3      Streptomyces kasugaensis  WP_094795567.1\n",
       "4    Streptomyces celluloflavus  WP_110952043.1"
      ]
     },
     "execution_count": 26,
     "metadata": {},
     "output_type": "execute_result"
    }
   ],
   "source": [
    "fromOutput = pd.read_csv('info_outputblastpGB.txt', sep = '\\t', header = None)\n",
    "fromOutput.columns = [\"Organism\", 'proteinID']\n",
    "fromOutput.head()"
   ]
  },
  {
   "cell_type": "code",
   "execution_count": 30,
   "metadata": {},
   "outputs": [
    {
     "data": {
      "text/plain": [
       "'GAU68944.1'"
      ]
     },
     "execution_count": 30,
     "metadata": {},
     "output_type": "execute_result"
    }
   ],
   "source": [
    "fromOutput.iloc[0,1]"
   ]
  },
  {
   "cell_type": "markdown",
   "metadata": {},
   "source": [
    "#### Test with only one"
   ]
  },
  {
   "cell_type": "code",
   "execution_count": 87,
   "metadata": {},
   "outputs": [
    {
     "data": {
      "text/plain": [
       "[{u'ERROR': [], u'DbFrom': 'protein', u'IdList': ['1060075366'], u'LinkSetDbHistory': [], u'LinkSetDb': [{u'DbTo': 'nuccore', u'Link': [{u'Id': '1060077251'}], u'LinkName': 'protein_nuccore'}, {u'DbTo': 'nuccore', u'Link': [{u'Id': '1060077251'}], u'LinkName': 'protein_nuccore_wp'}]}]"
      ]
     },
     "execution_count": 87,
     "metadata": {},
     "output_type": "execute_result"
    }
   ],
   "source": [
    "#Test with only one\n",
    "Entrez.email = \"dgarcia@eng.au.dk\"\n",
    "handle = Entrez.elink(dbfrom=\"protein\", db=\"nuccore\", id=\"WP_069088349.1\")\n",
    "record = Entrez.read(handle)\n",
    "handle.close()\n",
    "record"
   ]
  },
  {
   "cell_type": "code",
   "execution_count": 53,
   "metadata": {},
   "outputs": [
    {
     "data": {
      "text/plain": [
       "'1060077251'"
      ]
     },
     "execution_count": 53,
     "metadata": {},
     "output_type": "execute_result"
    }
   ],
   "source": [
    "record[0][\"LinkSetDb\"][1][\"Link\"][0][\"Id\"]"
   ]
  },
  {
   "cell_type": "code",
   "execution_count": 6,
   "metadata": {},
   "outputs": [],
   "source": [
    "Entrez.email = \"dgarcia@eng.au.dk\"\n",
    "net_handle = Entrez.efetch(db = \"nuccore\", id = \"1060077251\", rettype = \"gb\", retmode = \"text\")\n",
    "out_handle = open('test.txt', \"w\")\n",
    "out_handle.write(net_handle.read())\n",
    "out_handle.close()\n",
    "net_handle.close()"
   ]
  },
  {
   "cell_type": "markdown",
   "metadata": {},
   "source": [
    "#### Combine elink with efetch"
   ]
  },
  {
   "cell_type": "code",
   "execution_count": 66,
   "metadata": {},
   "outputs": [
    {
     "name": "stdout",
     "output_type": "stream",
     "text": [
      "[{u'ERROR': [], u'DbFrom': 'protein', u'IdList': ['1685672373'], u'LinkSetDbHistory': [], u'LinkSetDb': [{u'DbTo': 'nuccore', u'Link': [{u'Id': '998752054'}], u'LinkName': 'protein_nuccore'}, {u'DbTo': 'nuccore', u'Link': [{u'Id': '998752064'}], u'LinkName': 'protein_nuccore_wgs'}]}]\n"
     ]
    }
   ],
   "source": [
    "filename = fromOutput.iloc[0,1].split('.')\n",
    "\n",
    "#Test with only one\n",
    "Entrez.email = \"dgarcia@eng.au.dk\"\n",
    "#Fetch nuccore id gb file\n",
    "handle = Entrez.elink(dbfrom = \"protein\", db = \"nuccore\", id = fromOutput.iloc[0,1])\n",
    "record = Entrez.read(handle)\n",
    "print(record)\n",
    "#Fetch nuccore id\n",
    "net_handle = Entrez.efetch(db = \"nuccore\", id = record[0][\"LinkSetDb\"][0][\"Link\"][0][\"Id\"], rettype = \"gb\", retmode = \"text\")\n",
    "out_handle = open(filename[0]+'.gb', \"w\")\n",
    "out_handle.write(net_handle.read())\n",
    "handle.close()\n",
    "out_handle.close()\n",
    "net_handle.close()\n"
   ]
  },
  {
   "cell_type": "markdown",
   "metadata": {},
   "source": [
    "#### Get all at once and save"
   ]
  },
  {
   "cell_type": "code",
   "execution_count": 89,
   "metadata": {},
   "outputs": [
    {
     "name": "stdout",
     "output_type": "stream",
     "text": [
      "Save\n",
      "Save\n",
      "Save\n",
      "Save\n",
      "Save\n",
      "Save\n",
      "Save\n",
      "Save\n",
      "Save\n",
      "Save\n",
      "Save\n",
      "Save\n",
      "Save\n",
      "Save\n",
      "Save\n",
      "Save\n",
      "Save\n",
      "Save\n",
      "Save\n",
      "Save\n",
      "Save\n",
      "Save\n",
      "Save\n",
      "Save\n",
      "Save\n",
      "Save\n",
      "Save\n",
      "Save\n",
      "Save\n",
      "Save\n",
      "Save\n",
      "Save\n",
      "Save\n",
      "Save\n",
      "Save\n",
      "Save\n",
      "Save\n",
      "Save\n",
      "Save\n",
      "Save\n",
      "Save\n",
      "Save\n",
      "Save\n",
      "Save\n",
      "Save\n",
      "Save\n",
      "Save\n",
      "Save\n",
      "Save\n",
      "Save\n",
      "Save\n",
      "Save\n",
      "Save\n",
      "Save\n",
      "Save\n",
      "Save\n",
      "Save\n",
      "Save\n",
      "Save\n",
      "Save\n",
      "Save\n",
      "Save\n",
      "Save\n",
      "Save\n",
      "Save\n",
      "Save\n",
      "Save\n",
      "Save\n",
      "Save\n",
      "Save\n",
      "Save\n",
      "Save\n",
      "Save\n",
      "Save\n",
      "Save\n",
      "Save\n",
      "Save\n",
      "Save\n",
      "Save\n",
      "Save\n",
      "Save\n",
      "Save\n",
      "Save\n",
      "Save\n",
      "Save\n",
      "Save\n",
      "Save\n",
      "Save\n",
      "Save\n",
      "Save\n",
      "Save\n"
     ]
    }
   ],
   "source": [
    "#All at once \n",
    "Entrez.email = \"dgarcia@eng.au.dk\"\n",
    "for i in fromOutput.iloc[:,1]:\n",
    "    filename = i.split('.')\n",
    "    #print(filename[0])\n",
    "    handle = Entrez.elink(dbfrom = \"protein\", db = \"nuccore\", id = i)\n",
    "    record = Entrez.read(handle)\n",
    "    #print(record)\n",
    "    #Fetch nuccore id\n",
    "    if len(record[0][\"LinkSetDb\"]) == 2:\n",
    "        net_handle = Entrez.efetch(db = \"nuccore\", id = record[0][\"LinkSetDb\"][0][\"Link\"][0][\"Id\"], rettype = \"gb\", retmode = \"text\")\n",
    "        out_handle = open(filename[0]+'.gb', \"w\")\n",
    "        out_handle.write(net_handle.read())\n",
    "        out_handle.close()\n",
    "        net_handle.close()\n",
    "        print(\"Save\")\n",
    "    handle.close()\n",
    "\n"
   ]
  },
  {
   "cell_type": "code",
   "execution_count": 88,
   "metadata": {},
   "outputs": [
    {
     "data": {
      "text/plain": [
       "2"
      ]
     },
     "execution_count": 88,
     "metadata": {},
     "output_type": "execute_result"
    }
   ],
   "source": [
    "len(record[0][\"LinkSetDb\"])"
   ]
  }
 ],
 "metadata": {
  "kernelspec": {
   "display_name": "Python 2",
   "language": "python",
   "name": "python2"
  },
  "language_info": {
   "codemirror_mode": {
    "name": "ipython",
    "version": 2
   },
   "file_extension": ".py",
   "mimetype": "text/x-python",
   "name": "python",
   "nbconvert_exporter": "python",
   "pygments_lexer": "ipython2",
   "version": "2.7.16"
  },
  "sos": {
   "kernels": [],
   "panel": {
    "displayed": true,
    "height": 0
   },
   "version": "0.21.7"
  }
 },
 "nbformat": 4,
 "nbformat_minor": 2
}
